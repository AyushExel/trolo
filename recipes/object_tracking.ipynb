{
  "nbformat": 4,
  "nbformat_minor": 0,
  "metadata": {
    "colab": {
      "provenance": []
    },
    "kernelspec": {
      "name": "python3",
      "display_name": "Python 3"
    },
    "language_info": {
      "name": "python"
    }
  },
  "cells": [
    {
      "cell_type": "markdown",
      "source": [
        "![Trolo](https://private-user-images.githubusercontent.com/15766192/391220869-08091cad-703d-4d7d-84f6-5e6c310bf6c2.png?jwt=eyJhbGciOiJIUzI1NiIsInR5cCI6IkpXVCJ9.eyJpc3MiOiJnaXRodWIuY29tIiwiYXVkIjoicmF3LmdpdGh1YnVzZXJjb250ZW50LmNvbSIsImtleSI6ImtleTUiLCJleHAiOjE3MzMzMTMzOTksIm5iZiI6MTczMzMxMzA5OSwicGF0aCI6Ii8xNTc2NjE5Mi8zOTEyMjA4NjktMDgwOTFjYWQtNzAzZC00ZDdkLTg0ZjYtNWU2YzMxMGJmNmMyLnBuZz9YLUFtei1BbGdvcml0aG09QVdTNC1ITUFDLVNIQTI1NiZYLUFtei1DcmVkZW50aWFsPUFLSUFWQ09EWUxTQTUzUFFLNFpBJTJGMjAyNDEyMDQlMkZ1cy1lYXN0LTElMkZzMyUyRmF3czRfcmVxdWVzdCZYLUFtei1EYXRlPTIwMjQxMjA0VDExNTEzOVomWC1BbXotRXhwaXJlcz0zMDAmWC1BbXotU2lnbmF0dXJlPTQ4NDAwOTc2ZGNlMDQ1YmMwMWExMzBjYmE5NjJmMGYxMTE1NzY1ZDI0NGZkMTI5N2Q0YzRlMGJiMDc5ZDI2ZjgmWC1BbXotU2lnbmVkSGVhZGVycz1ob3N0In0.H8dvVZt5CImX2vEg2WP69FX3e3uAXIsuvo4TRjyQgE4)"
      ],
      "metadata": {
        "id": "WVhu6eHivvjh"
      }
    },
    {
      "cell_type": "markdown",
      "source": [
        "# Object Tracking\n",
        "---\n",
        "[![Colab](https://colab.research.google.com/assets/colab-badge.svg)](https://colab.research.google.com/github/ayushexel/trolo/blob/master/recipes/object-tracking.ipynb)"
      ],
      "metadata": {
        "id": "dyFL02L2vx3L"
      }
    },
    {
      "cell_type": "markdown",
      "source": [
        "# Installation\n",
        "---\n",
        "#### Installing the Trolo package directly from the GitHub repo\n"
      ],
      "metadata": {
        "id": "nqghwlLbwmtZ"
      }
    },
    {
      "cell_type": "code",
      "execution_count": null,
      "metadata": {
        "id": "1ttD9aO7vC27"
      },
      "outputs": [],
      "source": [
        "!pip install git+https://github.com/AyushExel/trolo.git"
      ]
    },
    {
      "cell_type": "markdown",
      "source": [
        "# Imports\n",
        "---"
      ],
      "metadata": {
        "id": "x1DZD9wUwjJi"
      }
    },
    {
      "cell_type": "code",
      "source": [
        "import numpy as np\n",
        "\n",
        "from tqdm import tqdm\n",
        "from PIL import Image\n",
        "\n",
        "import supervision as sv\n",
        "from supervision.assets import download_assets, VideoAssets"
      ],
      "metadata": {
        "id": "6fK9Qa0_wYCC"
      },
      "execution_count": null,
      "outputs": []
    },
    {
      "cell_type": "markdown",
      "source": [
        "# Download Video\n",
        "---\n",
        "#### As an example, we will use a video from the `supervision.assets` library."
      ],
      "metadata": {
        "id": "FdRTgDMK1C9M"
      }
    },
    {
      "cell_type": "code",
      "source": [
        "import os\n",
        "HOME = os.getcwd()\n",
        "\n",
        "path_to_video = download_assets(VideoAssets.PEOPLE_WALKING)"
      ],
      "metadata": {
        "id": "ZD7SAhwy1B3N"
      },
      "execution_count": null,
      "outputs": []
    },
    {
      "cell_type": "code",
      "source": [
        "SOURCE_VIDEO_PATH = f\"{HOME}/people-walking.mp4\""
      ],
      "metadata": {
        "id": "7nuv1aPy1N1X"
      },
      "execution_count": null,
      "outputs": []
    },
    {
      "cell_type": "code",
      "source": [
        "video_info=sv.VideoInfo.from_video_path(SOURCE_VIDEO_PATH)"
      ],
      "metadata": {
        "id": "lyqWIcTr1Plk"
      },
      "execution_count": null,
      "outputs": []
    },
    {
      "cell_type": "markdown",
      "source": [
        "# Initializing Objects\n",
        "---\n",
        "#### Initializing Predictor and Annotator objects"
      ],
      "metadata": {
        "id": "cpeQQagR1JUS"
      }
    },
    {
      "cell_type": "code",
      "source": [
        "from trolo.inference import DetectionPredictor\n",
        "\n",
        "predictor = DetectionPredictor(model=\"dfine-s\")\n",
        "predictions = predictor.predict(SOURCE_VIDEO_PATH, return_inputs=True)"
      ],
      "metadata": {
        "id": "ZImPa5D_1Jwp"
      },
      "execution_count": null,
      "outputs": []
    },
    {
      "cell_type": "code",
      "source": [
        "bounding_box_annotator = sv.BoxAnnotator(thickness=4)\n",
        "label_annotator = sv.LabelAnnotator(text_thickness=4, text_scale=2)\n",
        "byte_tracker = sv.ByteTrack()"
      ],
      "metadata": {
        "id": "oLiABQYZ1Ufq"
      },
      "execution_count": null,
      "outputs": []
    },
    {
      "cell_type": "markdown",
      "source": [
        "# Running Tracking\n",
        "---\n",
        "#### Using `sv.VideoSink` to annotate detections and tracking onto the video frame by frame."
      ],
      "metadata": {
        "id": "RkMhMu033mFm"
      }
    },
    {
      "cell_type": "code",
      "source": [
        "with sv.VideoSink(target_path=f\"/{HOME}/output.mp4\", video_info=video_info) as sink:\n",
        "\n",
        "    for prediction, frame in tqdm(predictions, total=video_info.total_frames):\n",
        "\n",
        "        detections = sv.Detections(\n",
        "            xyxy=prediction[0]['boxes'].numpy(),\n",
        "            confidence=prediction[0]['scores'].numpy(),\n",
        "            class_id=prediction[0]['labels'].numpy()\n",
        "        )\n",
        "        detections = byte_tracker.update_with_detections(detections)\n",
        "\n",
        "        labels = [ f\"{tracker_id}\" for tracker_id in detections.tracker_id ]\n",
        "        annotated_frame = label_annotator.annotate(scene=np.array(frame[0]), detections=detections, labels=labels)\n",
        "\n",
        "        sink.write_frame(frame=annotated_frame)"
      ],
      "metadata": {
        "id": "rx2PgTxd2NOM"
      },
      "execution_count": null,
      "outputs": []
    },
    {
      "cell_type": "code",
      "source": [],
      "metadata": {
        "id": "mUvsr6xjDG0n"
      },
      "execution_count": null,
      "outputs": []
    }
  ]
}