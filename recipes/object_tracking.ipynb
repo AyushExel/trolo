{
 "cells": [
  {
   "cell_type": "markdown",
   "metadata": {
    "id": "dyFL02L2vx3L"
   },
   "source": [
    "# Object Tracking\n",
    "---\n",
    "[![Colab](https://colab.research.google.com/assets/colab-badge.svg)](https://colab.research.google.com/github/ayushexel/trolo/blob/master/recipes/object-tracking.ipynb)"
   ]
  },
  {
   "cell_type": "markdown",
   "metadata": {
    "id": "nqghwlLbwmtZ"
   },
   "source": [
    "# Installation\n",
    "---\n",
    "#### Installing the Trolo package directly from the GitHub repo\n"
   ]
  },
  {
   "cell_type": "code",
   "execution_count": null,
   "metadata": {
    "id": "1ttD9aO7vC27"
   },
   "outputs": [],
   "source": [
    "!pip install git+https://github.com/AyushExel/trolo.git"
   ]
  },
  {
   "cell_type": "markdown",
   "metadata": {
    "id": "x1DZD9wUwjJi"
   },
   "source": [
    "# Imports\n",
    "---"
   ]
  },
  {
   "cell_type": "code",
   "execution_count": null,
   "metadata": {
    "id": "6fK9Qa0_wYCC"
   },
   "outputs": [],
   "source": [
    "import numpy as np\n",
    "\n",
    "from tqdm import tqdm\n",
    "from PIL import Image\n",
    "\n",
    "import supervision as sv\n",
    "from supervision.assets import download_assets, VideoAssets"
   ]
  },
  {
   "cell_type": "markdown",
   "metadata": {
    "id": "FdRTgDMK1C9M"
   },
   "source": [
    "# Download Video\n",
    "---\n",
    "#### As an example, we will use a video from the `supervision.assets` library."
   ]
  },
  {
   "cell_type": "code",
   "execution_count": null,
   "metadata": {
    "id": "ZD7SAhwy1B3N"
   },
   "outputs": [],
   "source": [
    "import os\n",
    "HOME = os.getcwd()\n",
    "\n",
    "path_to_video = download_assets(VideoAssets.PEOPLE_WALKING)"
   ]
  },
  {
   "cell_type": "code",
   "execution_count": null,
   "metadata": {
    "id": "7nuv1aPy1N1X"
   },
   "outputs": [],
   "source": [
    "SOURCE_VIDEO_PATH = f\"{HOME}/people-walking.mp4\""
   ]
  },
  {
   "cell_type": "code",
   "execution_count": null,
   "metadata": {
    "id": "lyqWIcTr1Plk"
   },
   "outputs": [],
   "source": [
    "video_info=sv.VideoInfo.from_video_path(SOURCE_VIDEO_PATH)"
   ]
  },
  {
   "cell_type": "markdown",
   "metadata": {
    "id": "cpeQQagR1JUS"
   },
   "source": [
    "# Initializing Objects\n",
    "---\n",
    "#### Initializing Predictor and Annotator objects"
   ]
  },
  {
   "cell_type": "code",
   "execution_count": null,
   "metadata": {
    "id": "ZImPa5D_1Jwp"
   },
   "outputs": [],
   "source": [
    "from trolo.inference import DetectionPredictor\n",
    "\n",
    "predictor = DetectionPredictor(model=\"dfine-s\")\n",
    "predictions = predictor.predict(SOURCE_VIDEO_PATH, return_inputs=True)"
   ]
  },
  {
   "cell_type": "code",
   "execution_count": null,
   "metadata": {
    "id": "oLiABQYZ1Ufq"
   },
   "outputs": [],
   "source": [
    "bounding_box_annotator = sv.BoxAnnotator(thickness=4)\n",
    "label_annotator = sv.LabelAnnotator(text_thickness=4, text_scale=2)\n",
    "byte_tracker = sv.ByteTrack()"
   ]
  },
  {
   "cell_type": "markdown",
   "metadata": {
    "id": "RkMhMu033mFm"
   },
   "source": [
    "# Running Tracking\n",
    "---\n",
    "#### Using `sv.VideoSink` to annotate detections and tracking onto the video frame by frame."
   ]
  },
  {
   "cell_type": "code",
   "execution_count": null,
   "metadata": {
    "id": "rx2PgTxd2NOM"
   },
   "outputs": [],
   "source": [
    "with sv.VideoSink(target_path=f\"/{HOME}/output.mp4\", video_info=video_info) as sink:\n",
    "\n",
    "    for prediction, frame in tqdm(predictions, total=video_info.total_frames):\n",
    "\n",
    "        detections = sv.Detections(\n",
    "            xyxy=prediction[0]['boxes'].numpy(),\n",
    "            confidence=prediction[0]['scores'].numpy(),\n",
    "            class_id=prediction[0]['labels'].numpy()\n",
    "        )\n",
    "        detections = byte_tracker.update_with_detections(detections)\n",
    "\n",
    "        labels = [ f\"{tracker_id}\" for tracker_id in detections.tracker_id ]\n",
    "        annotated_frame = label_annotator.annotate(scene=np.array(frame[0]), detections=detections, labels=labels)\n",
    "\n",
    "        sink.write_frame(frame=annotated_frame)"
   ]
  },
  {
   "cell_type": "code",
   "execution_count": null,
   "metadata": {
    "id": "mUvsr6xjDG0n"
   },
   "outputs": [],
   "source": []
  }
 ],
 "metadata": {
  "colab": {
   "provenance": []
  },
  "kernelspec": {
   "display_name": "Python 3",
   "name": "python3"
  },
  "language_info": {
   "name": "python"
  }
 },
 "nbformat": 4,
 "nbformat_minor": 0
}
