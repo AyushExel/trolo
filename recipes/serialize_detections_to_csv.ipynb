{
  "nbformat": 4,
  "nbformat_minor": 0,
  "metadata": {
    "colab": {
      "provenance": []
    },
    "kernelspec": {
      "name": "python3",
      "display_name": "Python 3"
    },
    "language_info": {
      "name": "python"
    }
  },
  "cells": [
    {
      "cell_type": "markdown",
      "source": [
        "![Trolo](https://private-user-images.githubusercontent.com/15766192/391220869-08091cad-703d-4d7d-84f6-5e6c310bf6c2.png?jwt=eyJhbGciOiJIUzI1NiIsInR5cCI6IkpXVCJ9.*eyJpc3MiOiJnaXRodWIuY29tIiwiYXVkIjoicmF3LmdpdGh1YnVzZXJjb250ZW50LmNvbSIsImtleSI6ImtleTUiLCJleHAiOjE3MzMzMTMzOTksIm5iZiI6MTczMzMxMzA5OSwicGF0aCI6Ii8xNTc2NjE5Mi8zOTEyMjA4NjktMDgwOTFjYWQtNzAzZC00ZDdkLTg0ZjYtNWU2YzMxMGJmNmMyLnBuZz9YLUFtei1BbGdvcml0aG09QVdTNC1ITUFDLVNIQTI1NiZYLUFtei1DcmVkZW50aWFsPUFLSUFWQ09EWUxTQTUzUFFLNFpBJTJGMjAyNDEyMDQlMkZ1cy1lYXN0LTElMkZzMyUyRmF3czRfcmVxdWVzdCZYLUFtei1EYXRlPTIwMjQxMjA0VDExNTEzOVomWC1BbXotRXhwaXJlcz0zMDAmWC1BbXotU2lnbmF0dXJlPTQ4NDAwOTc2ZGNlMDQ1YmMwMWExMzBjYmE5NjJmMGYxMTE1NzY1ZDI0NGZkMTI5N2Q0YzRlMGJiMDc5ZDI2ZjgmWC1BbXotU2lnbmVkSGVhZGVycz1ob3N0In0*.H8dvVZt5CImX2vEg2WP69FX3e3uAXIsuvo4TRjyQgE4)"
      ],
      "metadata": {
        "id": "KfjQMVCAGARf"
      }
    },
    {
      "cell_type": "markdown",
      "source": [
        "# Serialise Detections to a CSV\n",
        "---\n",
        "[![Colab](https://colab.research.google.com/assets/colab-badge.svg)](https://colab.research.google.com/github/ayushexel/trolo/blob/master/recipes/detect-small-objects.ipynb)"
      ],
      "metadata": {
        "id": "daitniohGEne"
      }
    },
    {
      "cell_type": "markdown",
      "source": [
        "## Installation\n",
        "---\n",
        "#### Installing the Trolo package directly from the GitHub repo\n"
      ],
      "metadata": {
        "id": "AXc1uo53GVuj"
      }
    },
    {
      "cell_type": "code",
      "execution_count": null,
      "metadata": {
        "id": "LVCDaGOwF6K2"
      },
      "outputs": [],
      "source": [
        "!pip install git+https://github.com/AyushExel/trolo.git"
      ]
    },
    {
      "cell_type": "markdown",
      "source": [
        "## Imports\n",
        "---"
      ],
      "metadata": {
        "id": "-9zCQY5vGgcK"
      }
    },
    {
      "cell_type": "code",
      "source": [
        "import csv\n",
        "from typing import List\n",
        "from collections import defaultdict\n",
        "\n",
        "import numpy as np\n",
        "import pandas as pd\n",
        "\n",
        "from PIL import Image\n",
        "\n",
        "import supervision as sv\n",
        "from supervision.assets import download_assets, VideoAssets"
      ],
      "metadata": {
        "id": "VkOmUBc4GYqx"
      },
      "execution_count": 2,
      "outputs": []
    },
    {
      "cell_type": "markdown",
      "source": [
        "## Download Image\n",
        "---\n",
        "#### As an example, we will use a picture from the internet.\n"
      ],
      "metadata": {
        "id": "RJLfcdLUGqyr"
      }
    },
    {
      "cell_type": "code",
      "source": [
        "import os\n",
        "HOME = os.getcwd()\n",
        "\n",
        "download_assets(VideoAssets.PEOPLE_WALKING)\n",
        "\n",
        "FILE_NAME = f\"/{HOME}/detections.csv\"\n",
        "SOURCE_VIDEO_PATH = f\"/{HOME}/people-walking.mp4\"\n",
        "\n",
        "sv.VideoInfo.from_video_path(SOURCE_VIDEO_PATH)"
      ],
      "metadata": {
        "id": "6dE5lcLV3quO"
      },
      "execution_count": null,
      "outputs": []
    },
    {
      "cell_type": "markdown",
      "source": [
        "## Initialize Detection and Supervision Objects\n",
        "---"
      ],
      "metadata": {
        "id": "xz4P8YypR6Ys"
      }
    },
    {
      "cell_type": "code",
      "source": [
        "from trolo.inference import DetectionPredictor\n",
        "\n",
        "predictor = DetectionPredictor(model=\"dfine-s\")"
      ],
      "metadata": {
        "colab": {
          "base_uri": "https://localhost:8080/"
        },
        "id": "sX1GEirMLZls",
        "outputId": "d98c245a-c3df-4c83-9aab-7ae959f4772e"
      },
      "execution_count": 4,
      "outputs": [
        {
          "output_type": "stream",
          "name": "stdout",
          "text": [
            "\u001b[0m🛈 Downloading model from https://github.com/ayushexel/trolo/releases/download/0.1.1/dfine-s.pth\u001b[0m\n",
            "\u001b[31m❌ Failed to download dfine-s.pth: 404 Client Error: Not Found for url: https://github.com/ayushexel/trolo/releases/download/0.1.1/dfine-s.pth\u001b[0m\n",
            "\u001b[0m🛈 Downloading model from https://github.com/ayushexel/trolo/releases/download/0.1.1/dfine_s.pth\u001b[0m\n",
            "\u001b[0m🛈 Successfully downloaded model to dfine_s.pth\u001b[0m\n",
            "\u001b[0m🛈 Loading config from checkpoint\u001b[0m\n"
          ]
        }
      ]
    },
    {
      "cell_type": "code",
      "source": [
        "byte_track = sv.ByteTrack(minimum_consecutive_frames=3)\n",
        "byte_track.reset()\n",
        "\n",
        "csv_sink = sv.CSVSink(FILE_NAME)"
      ],
      "metadata": {
        "id": "QuOQGWc4Qv_5"
      },
      "execution_count": 5,
      "outputs": []
    },
    {
      "cell_type": "markdown",
      "source": [
        "## Process Video and Save Detections to CSV\n",
        "---"
      ],
      "metadata": {
        "id": "Z8eu3yy8SSXP"
      }
    },
    {
      "cell_type": "code",
      "source": [
        "def callback(frame: np.array, index:int):\n",
        "\n",
        "    prediction = predictor.predict(Image.fromarray(frame))\n",
        "\n",
        "    detections = sv.Detections(\n",
        "        xyxy=prediction[0]['boxes'].numpy(),\n",
        "        confidence=prediction[0]['scores'].numpy(),\n",
        "        class_id=prediction[0]['labels'].numpy()\n",
        "    )\n",
        "    detections = byte_track.update_with_detections(detections)\n",
        "\n",
        "    detections = detections[detections.class_id == 0]\n",
        "    detections.data[\"class_name\"] = np.array([\"person\" for _ in range(len(detections))])\n",
        "\n",
        "    csv_sink.append(detections, custom_data={'frame_number': index})"
      ],
      "metadata": {
        "id": "WiRKNI5eIHED"
      },
      "execution_count": 6,
      "outputs": []
    },
    {
      "cell_type": "code",
      "source": [
        "TARGET_VIDEO_PATH = f'/{HOME}/target.mp4'\n",
        "\n",
        "csv_sink.open()\n",
        "sv.process_video(\n",
        "    SOURCE_VIDEO_PATH,\n",
        "    TARGET_VIDEO_PATH,\n",
        "    callback=callback\n",
        ")\n",
        "csv_sink.close()"
      ],
      "metadata": {
        "id": "FFTg7tWzI3aO"
      },
      "execution_count": 7,
      "outputs": []
    },
    {
      "cell_type": "markdown",
      "source": [
        "# Visalize the detections from CSV\n",
        "---"
      ],
      "metadata": {
        "id": "jXlEnoWUTFrj"
      }
    },
    {
      "cell_type": "code",
      "source": [
        "df = pd.read_csv(FILE_NAME)\n",
        "df"
      ],
      "metadata": {
        "id": "t3fJHsBoQ8I7"
      },
      "execution_count": null,
      "outputs": []
    }
  ]
}