{
 "cells": [
  {
   "cell_type": "markdown",
   "metadata": {
    "id": "daitniohGEne"
   },
   "source": [
    "# Serialise Detections to a CSV\n",
    "---\n",
    "[![Colab](https://colab.research.google.com/assets/colab-badge.svg)](https://colab.research.google.com/github/ayushexel/trolo/blob/master/recipes/detect-small-objects.ipynb)"
   ]
  },
  {
   "cell_type": "markdown",
   "metadata": {
    "id": "AXc1uo53GVuj"
   },
   "source": [
    "## Installation\n",
    "---\n",
    "#### Installing the Trolo package directly from the GitHub repo\n"
   ]
  },
  {
   "cell_type": "code",
   "execution_count": null,
   "metadata": {
    "id": "LVCDaGOwF6K2"
   },
   "outputs": [],
   "source": [
    "!pip install git+https://github.com/AyushExel/trolo.git"
   ]
  },
  {
   "cell_type": "markdown",
   "metadata": {
    "id": "-9zCQY5vGgcK"
   },
   "source": [
    "## Imports\n",
    "---"
   ]
  },
  {
   "cell_type": "code",
   "execution_count": 2,
   "metadata": {
    "id": "VkOmUBc4GYqx"
   },
   "outputs": [],
   "source": [
    "import csv\n",
    "from typing import List\n",
    "from collections import defaultdict\n",
    "\n",
    "import numpy as np\n",
    "import pandas as pd\n",
    "\n",
    "from PIL import Image\n",
    "\n",
    "import supervision as sv\n",
    "from supervision.assets import download_assets, VideoAssets"
   ]
  },
  {
   "cell_type": "markdown",
   "metadata": {
    "id": "RJLfcdLUGqyr"
   },
   "source": [
    "## Download Image\n",
    "---\n",
    "#### As an example, we will use a picture from the internet.\n"
   ]
  },
  {
   "cell_type": "code",
   "execution_count": null,
   "metadata": {
    "id": "6dE5lcLV3quO"
   },
   "outputs": [],
   "source": [
    "import os\n",
    "HOME = os.getcwd()\n",
    "\n",
    "download_assets(VideoAssets.PEOPLE_WALKING)\n",
    "\n",
    "FILE_NAME = f\"/{HOME}/detections.csv\"\n",
    "SOURCE_VIDEO_PATH = f\"/{HOME}/people-walking.mp4\"\n",
    "\n",
    "sv.VideoInfo.from_video_path(SOURCE_VIDEO_PATH)"
   ]
  },
  {
   "cell_type": "markdown",
   "metadata": {
    "id": "xz4P8YypR6Ys"
   },
   "source": [
    "## Initialize Detection and Supervision Objects\n",
    "---"
   ]
  },
  {
   "cell_type": "code",
   "execution_count": 4,
   "metadata": {
    "colab": {
     "base_uri": "https://localhost:8080/"
    },
    "id": "sX1GEirMLZls",
    "outputId": "d98c245a-c3df-4c83-9aab-7ae959f4772e"
   },
   "outputs": [
    {
     "name": "stdout",
     "output_type": "stream",
     "text": [
      "\u001b[0m🛈 Downloading model from https://github.com/ayushexel/trolo/releases/download/0.1.1/dfine-s.pth\u001b[0m\n",
      "\u001b[31m❌ Failed to download dfine-s.pth: 404 Client Error: Not Found for url: https://github.com/ayushexel/trolo/releases/download/0.1.1/dfine-s.pth\u001b[0m\n",
      "\u001b[0m🛈 Downloading model from https://github.com/ayushexel/trolo/releases/download/0.1.1/dfine_s.pth\u001b[0m\n",
      "\u001b[0m🛈 Successfully downloaded model to dfine_s.pth\u001b[0m\n",
      "\u001b[0m🛈 Loading config from checkpoint\u001b[0m\n"
     ]
    }
   ],
   "source": [
    "from trolo.inference import DetectionPredictor\n",
    "\n",
    "predictor = DetectionPredictor(model=\"dfine-s\")"
   ]
  },
  {
   "cell_type": "code",
   "execution_count": 5,
   "metadata": {
    "id": "QuOQGWc4Qv_5"
   },
   "outputs": [],
   "source": [
    "byte_track = sv.ByteTrack(minimum_consecutive_frames=3)\n",
    "byte_track.reset()\n",
    "\n",
    "csv_sink = sv.CSVSink(FILE_NAME)"
   ]
  },
  {
   "cell_type": "markdown",
   "metadata": {
    "id": "Z8eu3yy8SSXP"
   },
   "source": [
    "## Process Video and Save Detections to CSV\n",
    "---"
   ]
  },
  {
   "cell_type": "code",
   "execution_count": 6,
   "metadata": {
    "id": "WiRKNI5eIHED"
   },
   "outputs": [],
   "source": [
    "def callback(frame: np.array, index:int):\n",
    "\n",
    "    prediction = predictor.predict(Image.fromarray(frame))\n",
    "\n",
    "    detections = sv.Detections(\n",
    "        xyxy=prediction[0]['boxes'].numpy(),\n",
    "        confidence=prediction[0]['scores'].numpy(),\n",
    "        class_id=prediction[0]['labels'].numpy()\n",
    "    )\n",
    "    detections = byte_track.update_with_detections(detections)\n",
    "\n",
    "    detections = detections[detections.class_id == 0]\n",
    "    detections.data[\"class_name\"] = np.array([\"person\" for _ in range(len(detections))])\n",
    "\n",
    "    csv_sink.append(detections, custom_data={'frame_number': index})"
   ]
  },
  {
   "cell_type": "code",
   "execution_count": 7,
   "metadata": {
    "id": "FFTg7tWzI3aO"
   },
   "outputs": [],
   "source": [
    "TARGET_VIDEO_PATH = f'/{HOME}/target.mp4'\n",
    "\n",
    "csv_sink.open()\n",
    "sv.process_video(\n",
    "    SOURCE_VIDEO_PATH,\n",
    "    TARGET_VIDEO_PATH,\n",
    "    callback=callback\n",
    ")\n",
    "csv_sink.close()"
   ]
  },
  {
   "cell_type": "markdown",
   "metadata": {
    "id": "jXlEnoWUTFrj"
   },
   "source": [
    "# Visalize the detections from CSV\n",
    "---"
   ]
  },
  {
   "cell_type": "code",
   "execution_count": null,
   "metadata": {
    "id": "t3fJHsBoQ8I7"
   },
   "outputs": [],
   "source": [
    "df = pd.read_csv(FILE_NAME)\n",
    "df"
   ]
  }
 ],
 "metadata": {
  "colab": {
   "provenance": []
  },
  "kernelspec": {
   "display_name": "Python 3",
   "name": "python3"
  },
  "language_info": {
   "name": "python"
  }
 },
 "nbformat": 4,
 "nbformat_minor": 0
}
