{
  "nbformat": 4,
  "nbformat_minor": 0,
  "metadata": {
    "colab": {
      "provenance": [],
      "gpuType": "T4"
    },
    "kernelspec": {
      "name": "python3",
      "display_name": "Python 3"
    },
    "language_info": {
      "name": "python"
    },
    "accelerator": "GPU"
  },
  "cells": [
    {
      "cell_type": "markdown",
      "source": [
        "![Trolo](https://private-user-images.githubusercontent.com/15766192/391220869-08091cad-703d-4d7d-84f6-5e6c310bf6c2.png?jwt=eyJhbGciOiJIUzI1NiIsInR5cCI6IkpXVCJ9.eyJpc3MiOiJnaXRodWIuY29tIiwiYXVkIjoicmF3LmdpdGh1YnVzZXJjb250ZW50LmNvbSIsImtleSI6ImtleTUiLCJleHAiOjE3MzMzMTMzOTksIm5iZiI6MTczMzMxMzA5OSwicGF0aCI6Ii8xNTc2NjE5Mi8zOTEyMjA4NjktMDgwOTFjYWQtNzAzZC00ZDdkLTg0ZjYtNWU2YzMxMGJmNmMyLnBuZz9YLUFtei1BbGdvcml0aG09QVdTNC1ITUFDLVNIQTI1NiZYLUFtei1DcmVkZW50aWFsPUFLSUFWQ09EWUxTQTUzUFFLNFpBJTJGMjAyNDEyMDQlMkZ1cy1lYXN0LTElMkZzMyUyRmF3czRfcmVxdWVzdCZYLUFtei1EYXRlPTIwMjQxMjA0VDExNTEzOVomWC1BbXotRXhwaXJlcz0zMDAmWC1BbXotU2lnbmF0dXJlPTQ4NDAwOTc2ZGNlMDQ1YmMwMWExMzBjYmE5NjJmMGYxMTE1NzY1ZDI0NGZkMTI5N2Q0YzRlMGJiMDc5ZDI2ZjgmWC1BbXotU2lnbmVkSGVhZGVycz1ob3N0In0.H8dvVZt5CImX2vEg2WP69FX3e3uAXIsuvo4TRjyQgE4)"
      ],
      "metadata": {
        "id": "pfVMqtHbf12p"
      }
    },
    {
      "cell_type": "markdown",
      "source": [
        "# **Counting Objects Crossing the Line**\n",
        "---\n",
        "[![Colab](https://colab.research.google.com/assets/colab-badge.svg)](https://colab.research.google.com/github/ayushexel/trolo/blob/master/recipes/count-objects-crossing-the-line.ipynb)"
      ],
      "metadata": {
        "id": "ONpZAlBlhWs5"
      }
    },
    {
      "cell_type": "markdown",
      "source": [
        "# Installation\n",
        "---\n",
        "#### Installing the Trolo package directly from the GitHub repo"
      ],
      "metadata": {
        "id": "aC2dnFOYinHK"
      }
    },
    {
      "cell_type": "code",
      "execution_count": null,
      "metadata": {
        "id": "R-VttA6D3BC5"
      },
      "outputs": [],
      "source": [
        "!pip install git+https://github.com/AyushExel/trolo.git"
      ]
    },
    {
      "cell_type": "markdown",
      "source": [
        "# Imports\n",
        "---"
      ],
      "metadata": {
        "id": "7JI45DwYjePz"
      }
    },
    {
      "cell_type": "code",
      "source": [
        "import numpy as np\n",
        "from PIL import Image\n",
        "\n",
        "import supervision as sv\n",
        "from supervision.assets import download_assets, VideoAssets"
      ],
      "metadata": {
        "id": "OSxGSLuO3z1u"
      },
      "execution_count": null,
      "outputs": []
    },
    {
      "cell_type": "code",
      "source": [
        "COCO_CLASSES = [\n",
        "    \"person\", \"bicycle\", \"car\", \"motorcycle\", \"airplane\", \"bus\",\n",
        "    \"train\", \"truck\", \"boat\", \"traffic light\", \"fire hydrant\", \"stop sign\",\n",
        "    \"parking meter\", \"bench\", \"bird\", \"cat\", \"dog\", \"horse\", \"sheep\", \"cow\",\n",
        "    \"elephant\", \"bear\", \"zebra\", \"giraffe\", \"backpack\", \"umbrella\", \"handbag\",\n",
        "    \"tie\", \"suitcase\", \"frisbee\", \"skis\", \"snowboard\", \"sports ball\", \"kite\",\n",
        "    \"baseball bat\", \"baseball glove\", \"skateboard\", \"surfboard\", \"tennis racket\",\n",
        "    \"bottle\", \"wine glass\", \"cup\", \"fork\", \"knife\", \"spoon\", \"bowl\", \"banana\",\n",
        "    \"apple\", \"sandwich\", \"orange\", \"broccoli\", \"carrot\", \"hot dog\", \"pizza\",\n",
        "    \"donut\", \"cake\", \"chair\", \"couch\", \"potted plant\", \"bed\", \"dining table\",\n",
        "    \"toilet\", \"tv\", \"laptop\", \"mouse\", \"remote\", \"keyboard\", \"cell phone\",\n",
        "    \"microwave\", \"oven\", \"toaster\", \"sink\", \"refrigerator\", \"book\", \"clock\",\n",
        "    \"vase\", \"scissors\", \"teddy bear\", \"hair drier\", \"toothbrush\"\n",
        "]"
      ],
      "metadata": {
        "id": "vl6gnhDetLAo"
      },
      "execution_count": null,
      "outputs": []
    },
    {
      "cell_type": "markdown",
      "source": [
        "# Download Video\n",
        "---\n",
        "#### As an example, we will use a video from the `supervision.assets` library."
      ],
      "metadata": {
        "id": "02ZebeJCjqSp"
      }
    },
    {
      "cell_type": "code",
      "source": [
        "import os\n",
        "HOME = os.getcwd()\n",
        "\n",
        "download_assets(VideoAssets.VEHICLES)"
      ],
      "metadata": {
        "id": "PP9j80wd6Rw1"
      },
      "execution_count": null,
      "outputs": []
    },
    {
      "cell_type": "markdown",
      "source": [
        "**NOTE**: To use your own input video, upload to colab and replace `SOURCE_VIDEO_PATH`."
      ],
      "metadata": {
        "id": "hzwAtu6PlEey"
      }
    },
    {
      "cell_type": "code",
      "source": [
        "SOURCE_VIDEO_PATH = f\"/{HOME}/vehicles.mp4\""
      ],
      "metadata": {
        "id": "gdozUaOK6V8Z"
      },
      "execution_count": null,
      "outputs": []
    },
    {
      "cell_type": "code",
      "source": [
        "sv.VideoInfo.from_video_path(SOURCE_VIDEO_PATH)"
      ],
      "metadata": {
        "id": "Qcb5qf1l6vX4"
      },
      "execution_count": null,
      "outputs": []
    },
    {
      "cell_type": "markdown",
      "source": [
        "# Inference\n",
        "---\n",
        "\n",
        "#### Initializes detection predictor with the specified Model"
      ],
      "metadata": {
        "id": "b3RVqpbjluqd"
      }
    },
    {
      "cell_type": "code",
      "source": [
        "from trolo.inference import DetectionPredictor\n",
        "\n",
        "predictor = DetectionPredictor(model=\"dfine-n\")"
      ],
      "metadata": {
        "id": "j-V9bKEn66Tx"
      },
      "execution_count": null,
      "outputs": []
    },
    {
      "cell_type": "markdown",
      "source": [
        "#### Initiales Annotations to be performed on Output Video"
      ],
      "metadata": {
        "id": "5ZT8Kkddn0TQ"
      }
    },
    {
      "cell_type": "code",
      "source": [
        "bounding_box_annotator = sv.BoxAnnotator(thickness=4)\n",
        "label_annotator = sv.LabelAnnotator(text_thickness=4, text_scale=2)\n",
        "byte_tracker = sv.ByteTrack()"
      ],
      "metadata": {
        "id": "x3jkiosIOi1H"
      },
      "execution_count": null,
      "outputs": []
    },
    {
      "cell_type": "code",
      "source": [
        "START = sv.Point(0, 1500)\n",
        "END = sv.Point(3840, 1500)\n",
        "\n",
        "line_zone = sv.LineZone(start=START, end=END)\n",
        "\n",
        "line_zone_annotator = sv.LineZoneAnnotator(\n",
        "    thickness=4,\n",
        "    text_thickness=4,\n",
        "    text_scale=2)"
      ],
      "metadata": {
        "id": "lmoOfNI7oPfu"
      },
      "execution_count": null,
      "outputs": []
    },
    {
      "cell_type": "markdown",
      "source": [
        "# Running Object Detection\n",
        "---\n",
        "Using `sv.process_video`, we process the Video frame by frame and perform various annotations and final annotated video is saved at `TARGET_VIDEO_PATH`."
      ],
      "metadata": {
        "id": "jwpHs8bGyKO1"
      }
    },
    {
      "cell_type": "code",
      "source": [
        "def callback(frame: np.ndarray, index:int) -> np.ndarray:\n",
        "\n",
        "    prediction = predictor.predict(Image.fromarray(frame))\n",
        "\n",
        "    detections = sv.Detections(\n",
        "        xyxy=prediction[0]['boxes'].numpy(),\n",
        "        confidence=prediction[0]['scores'].numpy(),\n",
        "        class_id=prediction[0]['labels'].numpy()\n",
        "    )\n",
        "    detections = byte_tracker.update_with_detections(detections)\n",
        "\n",
        "    labels = [\n",
        "        f\"#{tracker_id} {COCO_CLASSES[class_id]} {confidence:0.2f}\"\n",
        "        for confidence, class_id, tracker_id\n",
        "        in zip(detections.confidence, detections.class_id, detections.tracker_id)\n",
        "    ]\n",
        "\n",
        "    annotated_frame = frame.copy()\n",
        "    annotated_frame = bounding_box_annotator.annotate(\n",
        "        scene=annotated_frame,\n",
        "        detections=detections)\n",
        "    annotated_frame = label_annotator.annotate(\n",
        "        scene=annotated_frame,\n",
        "        detections=detections,\n",
        "        labels=labels)\n",
        "\n",
        "    line_zone.trigger(detections)\n",
        "\n",
        "    return  line_zone_annotator.annotate(annotated_frame, line_counter=line_zone)"
      ],
      "metadata": {
        "id": "M7nVHtQzASIE"
      },
      "execution_count": null,
      "outputs": []
    },
    {
      "cell_type": "code",
      "source": [
        "TARGET_VIDEO_PATH = f'/{HOME}/output.mp4'\n",
        "\n",
        "sv.process_video(\n",
        "    source_path = SOURCE_VIDEO_PATH,\n",
        "    target_path = TARGET_VIDEO_PATH,\n",
        "    callback=callback\n",
        ")"
      ],
      "metadata": {
        "id": "RuWJnEfz4pQm"
      },
      "execution_count": null,
      "outputs": []
    }
  ]
}