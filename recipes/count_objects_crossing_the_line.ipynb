{
 "cells": [
  {
   "cell_type": "markdown",
   "metadata": {
    "id": "ONpZAlBlhWs5"
   },
   "source": [
    "# **Counting Objects Crossing the Line**\n",
    "---\n",
    "[![Colab](https://colab.research.google.com/assets/colab-badge.svg)](https://colab.research.google.com/github/ayushexel/trolo/blob/master/recipes/count-objects-crossing-the-line.ipynb)"
   ]
  },
  {
   "cell_type": "markdown",
   "metadata": {
    "id": "aC2dnFOYinHK"
   },
   "source": [
    "# Installation\n",
    "---\n",
    "#### Installing the Trolo package directly from the GitHub repo"
   ]
  },
  {
   "cell_type": "code",
   "execution_count": null,
   "metadata": {
    "id": "R-VttA6D3BC5"
   },
   "outputs": [],
   "source": [
    "!pip install git+https://github.com/AyushExel/trolo.git"
   ]
  },
  {
   "cell_type": "markdown",
   "metadata": {
    "id": "7JI45DwYjePz"
   },
   "source": [
    "# Imports\n",
    "---"
   ]
  },
  {
   "cell_type": "code",
   "execution_count": null,
   "metadata": {
    "id": "OSxGSLuO3z1u"
   },
   "outputs": [],
   "source": [
    "import numpy as np\n",
    "from PIL import Image\n",
    "\n",
    "import supervision as sv\n",
    "from supervision.assets import download_assets, VideoAssets"
   ]
  },
  {
   "cell_type": "code",
   "execution_count": null,
   "metadata": {
    "id": "vl6gnhDetLAo"
   },
   "outputs": [],
   "source": [
    "COCO_CLASSES = [\n",
    "    \"person\", \"bicycle\", \"car\", \"motorcycle\", \"airplane\", \"bus\",\n",
    "    \"train\", \"truck\", \"boat\", \"traffic light\", \"fire hydrant\", \"stop sign\",\n",
    "    \"parking meter\", \"bench\", \"bird\", \"cat\", \"dog\", \"horse\", \"sheep\", \"cow\",\n",
    "    \"elephant\", \"bear\", \"zebra\", \"giraffe\", \"backpack\", \"umbrella\", \"handbag\",\n",
    "    \"tie\", \"suitcase\", \"frisbee\", \"skis\", \"snowboard\", \"sports ball\", \"kite\",\n",
    "    \"baseball bat\", \"baseball glove\", \"skateboard\", \"surfboard\", \"tennis racket\",\n",
    "    \"bottle\", \"wine glass\", \"cup\", \"fork\", \"knife\", \"spoon\", \"bowl\", \"banana\",\n",
    "    \"apple\", \"sandwich\", \"orange\", \"broccoli\", \"carrot\", \"hot dog\", \"pizza\",\n",
    "    \"donut\", \"cake\", \"chair\", \"couch\", \"potted plant\", \"bed\", \"dining table\",\n",
    "    \"toilet\", \"tv\", \"laptop\", \"mouse\", \"remote\", \"keyboard\", \"cell phone\",\n",
    "    \"microwave\", \"oven\", \"toaster\", \"sink\", \"refrigerator\", \"book\", \"clock\",\n",
    "    \"vase\", \"scissors\", \"teddy bear\", \"hair drier\", \"toothbrush\"\n",
    "]"
   ]
  },
  {
   "cell_type": "markdown",
   "metadata": {
    "id": "02ZebeJCjqSp"
   },
   "source": [
    "# Download Video\n",
    "---\n",
    "#### As an example, we will use a video from the `supervision.assets` library."
   ]
  },
  {
   "cell_type": "code",
   "execution_count": null,
   "metadata": {
    "id": "PP9j80wd6Rw1"
   },
   "outputs": [],
   "source": [
    "import os\n",
    "HOME = os.getcwd()\n",
    "\n",
    "download_assets(VideoAssets.VEHICLES)"
   ]
  },
  {
   "cell_type": "markdown",
   "metadata": {
    "id": "hzwAtu6PlEey"
   },
   "source": [
    "**NOTE**: To use your own input video, upload to colab and replace `SOURCE_VIDEO_PATH`."
   ]
  },
  {
   "cell_type": "code",
   "execution_count": null,
   "metadata": {
    "id": "gdozUaOK6V8Z"
   },
   "outputs": [],
   "source": [
    "SOURCE_VIDEO_PATH = f\"/{HOME}/vehicles.mp4\""
   ]
  },
  {
   "cell_type": "code",
   "execution_count": null,
   "metadata": {
    "id": "Qcb5qf1l6vX4"
   },
   "outputs": [],
   "source": [
    "sv.VideoInfo.from_video_path(SOURCE_VIDEO_PATH)"
   ]
  },
  {
   "cell_type": "markdown",
   "metadata": {
    "id": "b3RVqpbjluqd"
   },
   "source": [
    "# Inference\n",
    "---\n",
    "\n",
    "#### Initializes detection predictor with the specified Model"
   ]
  },
  {
   "cell_type": "code",
   "execution_count": null,
   "metadata": {
    "id": "j-V9bKEn66Tx"
   },
   "outputs": [],
   "source": [
    "from trolo.inference import DetectionPredictor\n",
    "\n",
    "predictor = DetectionPredictor(model=\"dfine-n\")"
   ]
  },
  {
   "cell_type": "markdown",
   "metadata": {
    "id": "5ZT8Kkddn0TQ"
   },
   "source": [
    "#### Initiales Annotations to be performed on Output Video"
   ]
  },
  {
   "cell_type": "code",
   "execution_count": null,
   "metadata": {
    "id": "x3jkiosIOi1H"
   },
   "outputs": [],
   "source": [
    "bounding_box_annotator = sv.BoxAnnotator(thickness=4)\n",
    "label_annotator = sv.LabelAnnotator(text_thickness=4, text_scale=2)\n",
    "byte_tracker = sv.ByteTrack()"
   ]
  },
  {
   "cell_type": "code",
   "execution_count": null,
   "metadata": {
    "id": "lmoOfNI7oPfu"
   },
   "outputs": [],
   "source": [
    "START = sv.Point(0, 1500)\n",
    "END = sv.Point(3840, 1500)\n",
    "\n",
    "line_zone = sv.LineZone(start=START, end=END)\n",
    "\n",
    "line_zone_annotator = sv.LineZoneAnnotator(\n",
    "    thickness=4,\n",
    "    text_thickness=4,\n",
    "    text_scale=2)"
   ]
  },
  {
   "cell_type": "markdown",
   "metadata": {
    "id": "jwpHs8bGyKO1"
   },
   "source": [
    "# Running Object Detection\n",
    "---\n",
    "Using `sv.process_video`, we process the Video frame by frame and perform various annotations and final annotated video is saved at `TARGET_VIDEO_PATH`."
   ]
  },
  {
   "cell_type": "code",
   "execution_count": null,
   "metadata": {
    "id": "M7nVHtQzASIE"
   },
   "outputs": [],
   "source": [
    "def callback(frame: np.ndarray, index:int) -> np.ndarray:\n",
    "\n",
    "    prediction = predictor.predict(Image.fromarray(frame))\n",
    "\n",
    "    detections = sv.Detections(\n",
    "        xyxy=prediction[0]['boxes'].numpy(),\n",
    "        confidence=prediction[0]['scores'].numpy(),\n",
    "        class_id=prediction[0]['labels'].numpy()\n",
    "    )\n",
    "    detections = byte_tracker.update_with_detections(detections)\n",
    "\n",
    "    labels = [\n",
    "        f\"#{tracker_id} {COCO_CLASSES[class_id]} {confidence:0.2f}\"\n",
    "        for confidence, class_id, tracker_id\n",
    "        in zip(detections.confidence, detections.class_id, detections.tracker_id)\n",
    "    ]\n",
    "\n",
    "    annotated_frame = frame.copy()\n",
    "    annotated_frame = bounding_box_annotator.annotate(\n",
    "        scene=annotated_frame,\n",
    "        detections=detections)\n",
    "    annotated_frame = label_annotator.annotate(\n",
    "        scene=annotated_frame,\n",
    "        detections=detections,\n",
    "        labels=labels)\n",
    "\n",
    "    line_zone.trigger(detections)\n",
    "\n",
    "    return  line_zone_annotator.annotate(annotated_frame, line_counter=line_zone)"
   ]
  },
  {
   "cell_type": "code",
   "execution_count": null,
   "metadata": {
    "id": "RuWJnEfz4pQm"
   },
   "outputs": [],
   "source": [
    "TARGET_VIDEO_PATH = f'/{HOME}/output.mp4'\n",
    "\n",
    "sv.process_video(\n",
    "    source_path = SOURCE_VIDEO_PATH,\n",
    "    target_path = TARGET_VIDEO_PATH,\n",
    "    callback=callback\n",
    ")"
   ]
  }
 ],
 "metadata": {
  "accelerator": "GPU",
  "colab": {
   "gpuType": "T4",
   "provenance": []
  },
  "kernelspec": {
   "display_name": "Python 3",
   "name": "python3"
  },
  "language_info": {
   "name": "python"
  }
 },
 "nbformat": 4,
 "nbformat_minor": 0
}
